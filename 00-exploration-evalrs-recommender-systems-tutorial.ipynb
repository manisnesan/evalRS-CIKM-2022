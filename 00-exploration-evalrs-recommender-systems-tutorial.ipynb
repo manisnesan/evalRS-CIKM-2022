{
 "cells": [
  {
   "cell_type": "markdown",
   "metadata": {},
   "source": [
    "### Resources\n",
    "\n",
    "* [Challenge Instructions](https://github.com/RecList/evalRS-CIKM-2022#how-to-join-the-race)\n",
    "* [Data Exploration Notebook](https://www.kaggle.com/code/peppeatta/exploratory-data-analysis-on-the-evalrs-dataset/notebook)\n",
    "* [Reclist Website](https://reclist.io)\n",
    "\n",
    "## At the end of this notebook\n",
    "\n",
    "* You should be able to understand how the dataset is structured\n",
    "* You shuld be able to write your own models to solve the challenge"
   ]
  },
  {
   "cell_type": "markdown",
   "metadata": {},
   "source": []
  },
  {
   "cell_type": "code",
   "execution_count": null,
   "metadata": {},
   "outputs": [],
   "source": [
    "%%capture\n",
    "!git clone https://github.com/RecList/evalRS-CIKM-2022\n",
    "!cd evalRS-CIKM-2022 ; git pull\n",
    "!cd evalRS-CIKM-2022; pip install -r requirements.txt"
   ]
  },
  {
   "cell_type": "code",
   "execution_count": null,
   "metadata": {},
   "outputs": [],
   "source": [
    "import os\n",
    "import sys\n",
    "import pandas as pd\n",
    "import numpy as np\n",
    "import random\n",
    "from tqdm import tqdm\n",
    "from sklearn.manifold import TSNE\n",
    "import numpy as np\n",
    "from gensim.models import Word2Vec\n",
    "import matplotlib.pyplot as plt\n",
    "import matplotlib.cm as cm\n",
    "\n",
    "np.random.seed(12)"
   ]
  },
  {
   "cell_type": "code",
   "execution_count": null,
   "metadata": {},
   "outputs": [
    {
     "data": {
      "text/plain": [
       "['/home/msivanes/Documents/1Projects/evalRS-CIKM-2022',\n",
       " '/home/msivanes/miniconda3/envs/evalRS/lib/python38.zip',\n",
       " '/home/msivanes/miniconda3/envs/evalRS/lib/python3.8',\n",
       " '/home/msivanes/miniconda3/envs/evalRS/lib/python3.8/lib-dynload',\n",
       " '',\n",
       " '/home/msivanes/Documents/1Projects/evalRS-CIKM-2022/venv/lib/python3.8/site-packages']"
      ]
     },
     "execution_count": null,
     "metadata": {},
     "output_type": "execute_result"
    }
   ],
   "source": [
    "sys.path"
   ]
  },
  {
   "cell_type": "code",
   "execution_count": null,
   "metadata": {},
   "outputs": [],
   "source": [
    "sys.path.insert(0, 'evalRS-CIKM-2022/')"
   ]
  },
  {
   "cell_type": "code",
   "execution_count": null,
   "metadata": {},
   "outputs": [],
   "source": [
    "from evaluation.EvalRSRunner import EvalRSRunner\n",
    "from evaluation.EvalRSRunner import ChallengeDataset\n",
    "from evaluation.EvalRSRecList import EvalRSRecList\n",
    "from reclist.abstractions import RecModel"
   ]
  },
  {
   "cell_type": "markdown",
   "metadata": {},
   "source": [
    "## Data - LastFM Songs\n",
    "\n",
    "This Data Challenge is based on the [LFM-1b Dataset, Corpus of Music Listening Events for Music Recommendation.](http://www.cp.jku.at/datasets/LFM-1b/) The use case is a typical user-item recommendation scenario: at prediction time, we have a set of target users to which we need to recommend a set of songs to listen to. To achieve that, we have historical anonymous data on previous music consumptions from users in the same setting.\n",
    "\n",
    "\n",
    "\n",
    "### Exploratory Data Analysis\n",
    "\n",
    "We are not goint to do much exploratory data analysis here. I will mainly go over what's in the dataset and how can we extract interesting information.\n",
    "BUT: we got you covered! [here's a notebook for you](https://www.kaggle.com/code/peppeatta/exploratory-data-analysis-on-the-evalrs-dataset/notebook).\n",
    "\n",
    "### Let's start with the data\n",
    "\n",
    "We have a simple wrapper class that downloads the data for you. This is going to take a bit as it is preparing quite a few things in the background."
   ]
  },
  {
   "cell_type": "code",
   "execution_count": null,
   "metadata": {},
   "outputs": [],
   "source": [
    "from nbdev.showdoc import show_doc"
   ]
  },
  {
   "cell_type": "code",
   "execution_count": null,
   "metadata": {},
   "outputs": [
    {
     "data": {
      "text/markdown": [
       "---\n",
       "\n",
       "### ChallengeDataset\n",
       "\n",
       ">      ChallengeDataset (num_folds=4, seed:int=None, force_download:bool=False)\n",
       "\n",
       "Initialize self.  See help(type(self)) for accurate signature."
      ],
      "text/plain": [
       "<nbdev.showdoc.BasicMarkdownRenderer>"
      ]
     },
     "execution_count": null,
     "metadata": {},
     "output_type": "execute_result"
    }
   ],
   "source": [
    "show_doc(ChallengeDataset)"
   ]
  },
  {
   "cell_type": "code",
   "execution_count": null,
   "metadata": {},
   "outputs": [
    {
     "name": "stdout",
     "output_type": "stream",
     "text": [
      "LFM dataset already downloaded. Skipping download.\n",
      "Loading dataset.\n",
      "Generating folds.\n",
      "Generating dataset hashes.\n"
     ]
    }
   ],
   "source": [
    "dataset = ChallengeDataset(num_folds=4, seed=12, force_download=False)"
   ]
  },
  {
   "cell_type": "markdown",
   "metadata": {},
   "source": [
    "Let's look at the dataset a bit :) We have lots of information (but we will only use some in this tutorial)!"
   ]
  },
  {
   "cell_type": "code",
   "execution_count": null,
   "metadata": {},
   "outputs": [
    {
     "data": {
      "text/plain": [
       "dataset.df_events\n",
       "dataset.df_tracks\n",
       "dataset.df_users"
      ]
     },
     "metadata": {},
     "output_type": "display_data"
    }
   ],
   "source": [
    "dataset.path_to_dataset, dataset.df*?"
   ]
  },
  {
   "cell_type": "code",
   "execution_count": null,
   "metadata": {},
   "outputs": [
    {
     "data": {
      "text/html": [
       "<div>\n",
       "<style scoped>\n",
       "    .dataframe tbody tr th:only-of-type {\n",
       "        vertical-align: middle;\n",
       "    }\n",
       "\n",
       "    .dataframe tbody tr th {\n",
       "        vertical-align: top;\n",
       "    }\n",
       "\n",
       "    .dataframe thead th {\n",
       "        text-align: right;\n",
       "    }\n",
       "</style>\n",
       "<table border=\"1\" class=\"dataframe\">\n",
       "  <thead>\n",
       "    <tr style=\"text-align: right;\">\n",
       "      <th></th>\n",
       "      <th>country</th>\n",
       "      <th>age</th>\n",
       "      <th>gender</th>\n",
       "      <th>playcount</th>\n",
       "      <th>registered_unixtime</th>\n",
       "      <th>country_id</th>\n",
       "      <th>gender_id</th>\n",
       "      <th>novelty_artist_avg_month</th>\n",
       "      <th>novelty_artist_avg_6months</th>\n",
       "      <th>novelty_artist_avg_year</th>\n",
       "      <th>...</th>\n",
       "      <th>relative_le_per_hour14</th>\n",
       "      <th>relative_le_per_hour15</th>\n",
       "      <th>relative_le_per_hour16</th>\n",
       "      <th>relative_le_per_hour17</th>\n",
       "      <th>relative_le_per_hour18</th>\n",
       "      <th>relative_le_per_hour19</th>\n",
       "      <th>relative_le_per_hour20</th>\n",
       "      <th>relative_le_per_hour21</th>\n",
       "      <th>relative_le_per_hour22</th>\n",
       "      <th>relative_le_per_hour23</th>\n",
       "    </tr>\n",
       "    <tr>\n",
       "      <th>user_id</th>\n",
       "      <th></th>\n",
       "      <th></th>\n",
       "      <th></th>\n",
       "      <th></th>\n",
       "      <th></th>\n",
       "      <th></th>\n",
       "      <th></th>\n",
       "      <th></th>\n",
       "      <th></th>\n",
       "      <th></th>\n",
       "      <th></th>\n",
       "      <th></th>\n",
       "      <th></th>\n",
       "      <th></th>\n",
       "      <th></th>\n",
       "      <th></th>\n",
       "      <th></th>\n",
       "      <th></th>\n",
       "      <th></th>\n",
       "      <th></th>\n",
       "      <th></th>\n",
       "    </tr>\n",
       "  </thead>\n",
       "  <tbody>\n",
       "    <tr>\n",
       "      <th>384</th>\n",
       "      <td>UK</td>\n",
       "      <td>35</td>\n",
       "      <td>m</td>\n",
       "      <td>42139</td>\n",
       "      <td>1035849600</td>\n",
       "      <td>0</td>\n",
       "      <td>0</td>\n",
       "      <td>0.276629</td>\n",
       "      <td>0.044439</td>\n",
       "      <td>0.309429</td>\n",
       "      <td>...</td>\n",
       "      <td>0.0279</td>\n",
       "      <td>0.0410</td>\n",
       "      <td>0.0811</td>\n",
       "      <td>0.1506</td>\n",
       "      <td>0.0377</td>\n",
       "      <td>0.0298</td>\n",
       "      <td>0.0132</td>\n",
       "      <td>0.0007</td>\n",
       "      <td>0.0001</td>\n",
       "      <td>0.0151</td>\n",
       "    </tr>\n",
       "    <tr>\n",
       "      <th>1206</th>\n",
       "      <td>NaN</td>\n",
       "      <td>-1</td>\n",
       "      <td>n</td>\n",
       "      <td>33103</td>\n",
       "      <td>1035849600</td>\n",
       "      <td>-1</td>\n",
       "      <td>1</td>\n",
       "      <td>0.437224</td>\n",
       "      <td>0.109671</td>\n",
       "      <td>0.513787</td>\n",
       "      <td>...</td>\n",
       "      <td>0.0016</td>\n",
       "      <td>0.0115</td>\n",
       "      <td>0.0276</td>\n",
       "      <td>0.0662</td>\n",
       "      <td>0.0790</td>\n",
       "      <td>0.0838</td>\n",
       "      <td>0.0995</td>\n",
       "      <td>0.1195</td>\n",
       "      <td>0.0968</td>\n",
       "      <td>0.0839</td>\n",
       "    </tr>\n",
       "    <tr>\n",
       "      <th>2622</th>\n",
       "      <td>NaN</td>\n",
       "      <td>-1</td>\n",
       "      <td>NaN</td>\n",
       "      <td>2030</td>\n",
       "      <td>1037404800</td>\n",
       "      <td>-1</td>\n",
       "      <td>-1</td>\n",
       "      <td>0.604828</td>\n",
       "      <td>0.043923</td>\n",
       "      <td>0.698983</td>\n",
       "      <td>...</td>\n",
       "      <td>0.1320</td>\n",
       "      <td>0.0493</td>\n",
       "      <td>0.0317</td>\n",
       "      <td>0.0470</td>\n",
       "      <td>0.0658</td>\n",
       "      <td>0.1127</td>\n",
       "      <td>0.1112</td>\n",
       "      <td>0.0680</td>\n",
       "      <td>0.0437</td>\n",
       "      <td>0.0254</td>\n",
       "    </tr>\n",
       "    <tr>\n",
       "      <th>2732</th>\n",
       "      <td>NaN</td>\n",
       "      <td>-1</td>\n",
       "      <td>n</td>\n",
       "      <td>147</td>\n",
       "      <td>1037577600</td>\n",
       "      <td>-1</td>\n",
       "      <td>1</td>\n",
       "      <td>0.756973</td>\n",
       "      <td>0.020071</td>\n",
       "      <td>0.882801</td>\n",
       "      <td>...</td>\n",
       "      <td>0.0598</td>\n",
       "      <td>0.0726</td>\n",
       "      <td>0.0171</td>\n",
       "      <td>0.0342</td>\n",
       "      <td>0.0769</td>\n",
       "      <td>0.1453</td>\n",
       "      <td>0.0470</td>\n",
       "      <td>0.0513</td>\n",
       "      <td>0.0085</td>\n",
       "      <td>0.0128</td>\n",
       "    </tr>\n",
       "    <tr>\n",
       "      <th>3653</th>\n",
       "      <td>UK</td>\n",
       "      <td>31</td>\n",
       "      <td>m</td>\n",
       "      <td>18504</td>\n",
       "      <td>1041033600</td>\n",
       "      <td>0</td>\n",
       "      <td>0</td>\n",
       "      <td>0.380005</td>\n",
       "      <td>0.045207</td>\n",
       "      <td>0.424411</td>\n",
       "      <td>...</td>\n",
       "      <td>0.0541</td>\n",
       "      <td>0.0518</td>\n",
       "      <td>0.0564</td>\n",
       "      <td>0.0554</td>\n",
       "      <td>0.0849</td>\n",
       "      <td>0.0954</td>\n",
       "      <td>0.0833</td>\n",
       "      <td>0.0657</td>\n",
       "      <td>0.0471</td>\n",
       "      <td>0.0595</td>\n",
       "    </tr>\n",
       "  </tbody>\n",
       "</table>\n",
       "<p>5 rows × 49 columns</p>\n",
       "</div>"
      ],
      "text/plain": [
       "        country  age gender  playcount  registered_unixtime  country_id  \\\n",
       "user_id                                                                   \n",
       "384          UK   35      m      42139           1035849600           0   \n",
       "1206        NaN   -1      n      33103           1035849600          -1   \n",
       "2622        NaN   -1    NaN       2030           1037404800          -1   \n",
       "2732        NaN   -1      n        147           1037577600          -1   \n",
       "3653         UK   31      m      18504           1041033600           0   \n",
       "\n",
       "         gender_id  novelty_artist_avg_month  novelty_artist_avg_6months  \\\n",
       "user_id                                                                    \n",
       "384              0                  0.276629                    0.044439   \n",
       "1206             1                  0.437224                    0.109671   \n",
       "2622            -1                  0.604828                    0.043923   \n",
       "2732             1                  0.756973                    0.020071   \n",
       "3653             0                  0.380005                    0.045207   \n",
       "\n",
       "         novelty_artist_avg_year  ...  relative_le_per_hour14  \\\n",
       "user_id                           ...                           \n",
       "384                     0.309429  ...                  0.0279   \n",
       "1206                    0.513787  ...                  0.0016   \n",
       "2622                    0.698983  ...                  0.1320   \n",
       "2732                    0.882801  ...                  0.0598   \n",
       "3653                    0.424411  ...                  0.0541   \n",
       "\n",
       "         relative_le_per_hour15  relative_le_per_hour16  \\\n",
       "user_id                                                   \n",
       "384                      0.0410                  0.0811   \n",
       "1206                     0.0115                  0.0276   \n",
       "2622                     0.0493                  0.0317   \n",
       "2732                     0.0726                  0.0171   \n",
       "3653                     0.0518                  0.0564   \n",
       "\n",
       "         relative_le_per_hour17  relative_le_per_hour18  \\\n",
       "user_id                                                   \n",
       "384                      0.1506                  0.0377   \n",
       "1206                     0.0662                  0.0790   \n",
       "2622                     0.0470                  0.0658   \n",
       "2732                     0.0342                  0.0769   \n",
       "3653                     0.0554                  0.0849   \n",
       "\n",
       "         relative_le_per_hour19  relative_le_per_hour20  \\\n",
       "user_id                                                   \n",
       "384                      0.0298                  0.0132   \n",
       "1206                     0.0838                  0.0995   \n",
       "2622                     0.1127                  0.1112   \n",
       "2732                     0.1453                  0.0470   \n",
       "3653                     0.0954                  0.0833   \n",
       "\n",
       "         relative_le_per_hour21  relative_le_per_hour22  \\\n",
       "user_id                                                   \n",
       "384                      0.0007                  0.0001   \n",
       "1206                     0.1195                  0.0968   \n",
       "2622                     0.0680                  0.0437   \n",
       "2732                     0.0513                  0.0085   \n",
       "3653                     0.0657                  0.0471   \n",
       "\n",
       "         relative_le_per_hour23  \n",
       "user_id                          \n",
       "384                      0.0151  \n",
       "1206                     0.0839  \n",
       "2622                     0.0254  \n",
       "2732                     0.0128  \n",
       "3653                     0.0595  \n",
       "\n",
       "[5 rows x 49 columns]"
      ]
     },
     "execution_count": null,
     "metadata": {},
     "output_type": "execute_result"
    }
   ],
   "source": [
    "# these are our users\n",
    "dataset.df_users.head()"
   ]
  },
  {
   "cell_type": "code",
   "execution_count": null,
   "metadata": {},
   "outputs": [
    {
     "data": {
      "text/plain": [
       "Index(['country', 'age', 'gender', 'playcount', 'registered_unixtime',\n",
       "       'country_id', 'gender_id', 'novelty_artist_avg_month',\n",
       "       'novelty_artist_avg_6months', 'novelty_artist_avg_year',\n",
       "       'mainstreaminess_avg_month', 'mainstreaminess_avg_6months',\n",
       "       'mainstreaminess_avg_year', 'mainstreaminess_global',\n",
       "       'cnt_listeningevents', 'cnt_distinct_tracks', 'cnt_distinct_artists',\n",
       "       'cnt_listeningevents_per_week', 'relative_le_per_weekday1',\n",
       "       'relative_le_per_weekday2', 'relative_le_per_weekday3',\n",
       "       'relative_le_per_weekday4', 'relative_le_per_weekday5',\n",
       "       'relative_le_per_weekday6', 'relative_le_per_weekday7',\n",
       "       'relative_le_per_hour0', 'relative_le_per_hour1',\n",
       "       'relative_le_per_hour2', 'relative_le_per_hour3',\n",
       "       'relative_le_per_hour4', 'relative_le_per_hour5',\n",
       "       'relative_le_per_hour6', 'relative_le_per_hour7',\n",
       "       'relative_le_per_hour8', 'relative_le_per_hour9',\n",
       "       'relative_le_per_hour10', 'relative_le_per_hour11',\n",
       "       'relative_le_per_hour12', 'relative_le_per_hour13',\n",
       "       'relative_le_per_hour14', 'relative_le_per_hour15',\n",
       "       'relative_le_per_hour16', 'relative_le_per_hour17',\n",
       "       'relative_le_per_hour18', 'relative_le_per_hour19',\n",
       "       'relative_le_per_hour20', 'relative_le_per_hour21',\n",
       "       'relative_le_per_hour22', 'relative_le_per_hour23'],\n",
       "      dtype='object')"
      ]
     },
     "execution_count": null,
     "metadata": {},
     "output_type": "execute_result"
    }
   ],
   "source": [
    "dataset.df_users.columns"
   ]
  },
  {
   "cell_type": "code",
   "execution_count": null,
   "metadata": {},
   "outputs": [
    {
     "data": {
      "text/html": [
       "<div>\n",
       "<style scoped>\n",
       "    .dataframe tbody tr th:only-of-type {\n",
       "        vertical-align: middle;\n",
       "    }\n",
       "\n",
       "    .dataframe tbody tr th {\n",
       "        vertical-align: top;\n",
       "    }\n",
       "\n",
       "    .dataframe thead th {\n",
       "        text-align: right;\n",
       "    }\n",
       "</style>\n",
       "<table border=\"1\" class=\"dataframe\">\n",
       "  <thead>\n",
       "    <tr style=\"text-align: right;\">\n",
       "      <th></th>\n",
       "      <th>user_id</th>\n",
       "      <th>artist_id</th>\n",
       "      <th>album_id</th>\n",
       "      <th>track_id</th>\n",
       "      <th>timestamp</th>\n",
       "      <th>user_track_count</th>\n",
       "    </tr>\n",
       "  </thead>\n",
       "  <tbody>\n",
       "    <tr>\n",
       "      <th>1047889016</th>\n",
       "      <td>50967444</td>\n",
       "      <td>3059</td>\n",
       "      <td>114114</td>\n",
       "      <td>336613</td>\n",
       "      <td>1409538054</td>\n",
       "      <td>1</td>\n",
       "    </tr>\n",
       "    <tr>\n",
       "      <th>1047889017</th>\n",
       "      <td>50967444</td>\n",
       "      <td>3059</td>\n",
       "      <td>114114</td>\n",
       "      <td>336156</td>\n",
       "      <td>1409537916</td>\n",
       "      <td>1</td>\n",
       "    </tr>\n",
       "    <tr>\n",
       "      <th>1047889018</th>\n",
       "      <td>50967444</td>\n",
       "      <td>3059</td>\n",
       "      <td>114114</td>\n",
       "      <td>339139</td>\n",
       "      <td>1409537712</td>\n",
       "      <td>1</td>\n",
       "    </tr>\n",
       "    <tr>\n",
       "      <th>1047889019</th>\n",
       "      <td>50967444</td>\n",
       "      <td>3059</td>\n",
       "      <td>114114</td>\n",
       "      <td>338514</td>\n",
       "      <td>1409537546</td>\n",
       "      <td>1</td>\n",
       "    </tr>\n",
       "    <tr>\n",
       "      <th>1047889059</th>\n",
       "      <td>50967444</td>\n",
       "      <td>677</td>\n",
       "      <td>3035</td>\n",
       "      <td>674449</td>\n",
       "      <td>1409532988</td>\n",
       "      <td>1</td>\n",
       "    </tr>\n",
       "  </tbody>\n",
       "</table>\n",
       "</div>"
      ],
      "text/plain": [
       "             user_id  artist_id  album_id  track_id   timestamp  \\\n",
       "1047889016  50967444       3059    114114    336613  1409538054   \n",
       "1047889017  50967444       3059    114114    336156  1409537916   \n",
       "1047889018  50967444       3059    114114    339139  1409537712   \n",
       "1047889019  50967444       3059    114114    338514  1409537546   \n",
       "1047889059  50967444        677      3035    674449  1409532988   \n",
       "\n",
       "            user_track_count  \n",
       "1047889016                 1  \n",
       "1047889017                 1  \n",
       "1047889018                 1  \n",
       "1047889019                 1  \n",
       "1047889059                 1  "
      ]
     },
     "execution_count": null,
     "metadata": {},
     "output_type": "execute_result"
    }
   ],
   "source": [
    "# these are the icolumnsctions users had with tracks on the platform\n",
    "dataset.df_events.head()"
   ]
  },
  {
   "cell_type": "code",
   "execution_count": null,
   "metadata": {},
   "outputs": [
    {
     "data": {
      "text/html": [
       "<div>\n",
       "<style scoped>\n",
       "    .dataframe tbody tr th:only-of-type {\n",
       "        vertical-align: middle;\n",
       "    }\n",
       "\n",
       "    .dataframe tbody tr th {\n",
       "        vertical-align: top;\n",
       "    }\n",
       "\n",
       "    .dataframe thead th {\n",
       "        text-align: right;\n",
       "    }\n",
       "</style>\n",
       "<table border=\"1\" class=\"dataframe\">\n",
       "  <thead>\n",
       "    <tr style=\"text-align: right;\">\n",
       "      <th></th>\n",
       "      <th>track</th>\n",
       "      <th>artist_id</th>\n",
       "      <th>artist</th>\n",
       "      <th>albums_id</th>\n",
       "      <th>albums</th>\n",
       "    </tr>\n",
       "    <tr>\n",
       "      <th>track_id</th>\n",
       "      <th></th>\n",
       "      <th></th>\n",
       "      <th></th>\n",
       "      <th></th>\n",
       "      <th></th>\n",
       "    </tr>\n",
       "  </thead>\n",
       "  <tbody>\n",
       "    <tr>\n",
       "      <th>1</th>\n",
       "      <td>A Matter of Time</td>\n",
       "      <td>3</td>\n",
       "      <td>Foo Fighters</td>\n",
       "      <td>[1, 67655, 605875, 682938, 889936, 2797722, 34...</td>\n",
       "      <td>['Wasting Light', 'Wasting Light (Deluxe Versi...</td>\n",
       "    </tr>\n",
       "    <tr>\n",
       "      <th>2</th>\n",
       "      <td>Hangar 18</td>\n",
       "      <td>1</td>\n",
       "      <td>Megadeth</td>\n",
       "      <td>[2, 693, 821, 2113, 12071, 13309, 17004, 83531...</td>\n",
       "      <td>['Rust In Peace', 'Countdown To Extinction', '...</td>\n",
       "    </tr>\n",
       "    <tr>\n",
       "      <th>3</th>\n",
       "      <td>Up the Downstair</td>\n",
       "      <td>4</td>\n",
       "      <td>Porcupine Tree</td>\n",
       "      <td>[84, 116, 13570, 283314, 302086, 303154, 35956...</td>\n",
       "      <td>['Up the Downstair', 'Coma Divine', 'Up The Do...</td>\n",
       "    </tr>\n",
       "    <tr>\n",
       "      <th>5</th>\n",
       "      <td>Mixtaped</td>\n",
       "      <td>5</td>\n",
       "      <td>No-Man</td>\n",
       "      <td>[5, 7654681]</td>\n",
       "      <td>['Schoolyard Ghosts', 'Schoolyard Ghosts Disc 1']</td>\n",
       "    </tr>\n",
       "    <tr>\n",
       "      <th>6</th>\n",
       "      <td>Sounds that I Hear</td>\n",
       "      <td>6</td>\n",
       "      <td>Airbag</td>\n",
       "      <td>[6, 340, 1139848]</td>\n",
       "      <td>['Sounds That I Hear', 'Identity', nan]</td>\n",
       "    </tr>\n",
       "  </tbody>\n",
       "</table>\n",
       "</div>"
      ],
      "text/plain": [
       "                       track  artist_id          artist  \\\n",
       "track_id                                                  \n",
       "1           A Matter of Time          3    Foo Fighters   \n",
       "2                  Hangar 18          1        Megadeth   \n",
       "3           Up the Downstair          4  Porcupine Tree   \n",
       "5                   Mixtaped          5          No-Man   \n",
       "6         Sounds that I Hear          6          Airbag   \n",
       "\n",
       "                                                  albums_id  \\\n",
       "track_id                                                      \n",
       "1         [1, 67655, 605875, 682938, 889936, 2797722, 34...   \n",
       "2         [2, 693, 821, 2113, 12071, 13309, 17004, 83531...   \n",
       "3         [84, 116, 13570, 283314, 302086, 303154, 35956...   \n",
       "5                                              [5, 7654681]   \n",
       "6                                         [6, 340, 1139848]   \n",
       "\n",
       "                                                     albums  \n",
       "track_id                                                     \n",
       "1         ['Wasting Light', 'Wasting Light (Deluxe Versi...  \n",
       "2         ['Rust In Peace', 'Countdown To Extinction', '...  \n",
       "3         ['Up the Downstair', 'Coma Divine', 'Up The Do...  \n",
       "5         ['Schoolyard Ghosts', 'Schoolyard Ghosts Disc 1']  \n",
       "6                   ['Sounds That I Hear', 'Identity', nan]  "
      ]
     },
     "execution_count": null,
     "metadata": {},
     "output_type": "execute_result"
    }
   ],
   "source": [
    "# these are acutal tracks\n",
    "dataset.df_tracks.head()"
   ]
  },
  {
   "cell_type": "code",
   "execution_count": null,
   "metadata": {},
   "outputs": [
    {
     "data": {
      "text/plain": [
       "6867422"
      ]
     },
     "execution_count": null,
     "metadata": {},
     "output_type": "execute_result"
    }
   ],
   "source": [
    "train0 = dataset._get_train_set(0);len(train0)"
   ]
  },
  {
   "cell_type": "code",
   "execution_count": null,
   "metadata": {},
   "outputs": [],
   "source": [
    "train1 = dataset._get_train_set(1)"
   ]
  },
  {
   "cell_type": "code",
   "execution_count": null,
   "metadata": {},
   "outputs": [
    {
     "data": {
      "text/plain": [
       "6896224"
      ]
     },
     "execution_count": null,
     "metadata": {},
     "output_type": "execute_result"
    }
   ],
   "source": [
    "len(train1)"
   ]
  },
  {
   "cell_type": "code",
   "execution_count": null,
   "metadata": {},
   "outputs": [
    {
     "data": {
      "text/plain": [
       "6890882"
      ]
     },
     "execution_count": null,
     "metadata": {},
     "output_type": "execute_result"
    }
   ],
   "source": [
    "train2 = dataset._get_train_set(2);len(train2)"
   ]
  },
  {
   "cell_type": "code",
   "execution_count": null,
   "metadata": {},
   "outputs": [
    {
     "data": {
      "text/plain": [
       "3"
      ]
     },
     "execution_count": null,
     "metadata": {},
     "output_type": "execute_result"
    }
   ],
   "source": [
    "dataset._test_set['fold'].max()"
   ]
  },
  {
   "cell_type": "code",
   "execution_count": null,
   "metadata": {},
   "outputs": [],
   "source": [
    "# let's get a balanced sample from the data, it will be useful to develop our methods\n",
    "# wait a tiny bit :)\n",
    "train, test = dataset.get_sample_train_test()"
   ]
  },
  {
   "cell_type": "code",
   "execution_count": null,
   "metadata": {},
   "outputs": [],
   "source": [
    "# here's how the train data looks\n",
    "train_df = train"
   ]
  },
  {
   "cell_type": "code",
   "execution_count": null,
   "metadata": {},
   "outputs": [],
   "source": [
    "test_df = test"
   ]
  },
  {
   "cell_type": "code",
   "execution_count": null,
   "metadata": {},
   "outputs": [
    {
     "data": {
      "text/plain": [
       "(6896224, 29725)"
      ]
     },
     "execution_count": null,
     "metadata": {},
     "output_type": "execute_result"
    }
   ],
   "source": [
    "len(train_df), len(test_df)"
   ]
  },
  {
   "cell_type": "code",
   "execution_count": null,
   "metadata": {},
   "outputs": [],
   "source": [
    "sample = train_df[:1000]"
   ]
  },
  {
   "cell_type": "code",
   "execution_count": null,
   "metadata": {},
   "outputs": [
    {
     "data": {
      "text/plain": [
       "37926429"
      ]
     },
     "execution_count": null,
     "metadata": {},
     "output_type": "execute_result"
    }
   ],
   "source": [
    "len(dataset.df_events)"
   ]
  },
  {
   "cell_type": "code",
   "execution_count": null,
   "metadata": {},
   "outputs": [
    {
     "data": {
      "text/html": [
       "<div>\n",
       "<style scoped>\n",
       "    .dataframe tbody tr th:only-of-type {\n",
       "        vertical-align: middle;\n",
       "    }\n",
       "\n",
       "    .dataframe tbody tr th {\n",
       "        vertical-align: top;\n",
       "    }\n",
       "\n",
       "    .dataframe thead th {\n",
       "        text-align: right;\n",
       "    }\n",
       "</style>\n",
       "<table border=\"1\" class=\"dataframe\">\n",
       "  <thead>\n",
       "    <tr style=\"text-align: right;\">\n",
       "      <th></th>\n",
       "      <th>user_id</th>\n",
       "      <th>artist_id</th>\n",
       "      <th>album_id</th>\n",
       "      <th>track_id</th>\n",
       "      <th>timestamp</th>\n",
       "      <th>user_track_count</th>\n",
       "    </tr>\n",
       "  </thead>\n",
       "  <tbody>\n",
       "    <tr>\n",
       "      <th>43142</th>\n",
       "      <td>7438644</td>\n",
       "      <td>1312</td>\n",
       "      <td>2944</td>\n",
       "      <td>8507</td>\n",
       "      <td>1354982620</td>\n",
       "      <td>1</td>\n",
       "    </tr>\n",
       "    <tr>\n",
       "      <th>43143</th>\n",
       "      <td>7438644</td>\n",
       "      <td>1312</td>\n",
       "      <td>2944</td>\n",
       "      <td>8508</td>\n",
       "      <td>1354982427</td>\n",
       "      <td>1</td>\n",
       "    </tr>\n",
       "    <tr>\n",
       "      <th>43144</th>\n",
       "      <td>7438644</td>\n",
       "      <td>1312</td>\n",
       "      <td>2944</td>\n",
       "      <td>8509</td>\n",
       "      <td>1354982287</td>\n",
       "      <td>1</td>\n",
       "    </tr>\n",
       "    <tr>\n",
       "      <th>43145</th>\n",
       "      <td>7438644</td>\n",
       "      <td>1312</td>\n",
       "      <td>2944</td>\n",
       "      <td>8510</td>\n",
       "      <td>1354981997</td>\n",
       "      <td>1</td>\n",
       "    </tr>\n",
       "    <tr>\n",
       "      <th>43150</th>\n",
       "      <td>7438644</td>\n",
       "      <td>1313</td>\n",
       "      <td>2946</td>\n",
       "      <td>8515</td>\n",
       "      <td>1354981177</td>\n",
       "      <td>1</td>\n",
       "    </tr>\n",
       "  </tbody>\n",
       "</table>\n",
       "</div>"
      ],
      "text/plain": [
       "       user_id  artist_id  album_id  track_id   timestamp  user_track_count\n",
       "43142  7438644       1312      2944      8507  1354982620                 1\n",
       "43143  7438644       1312      2944      8508  1354982427                 1\n",
       "43144  7438644       1312      2944      8509  1354982287                 1\n",
       "43145  7438644       1312      2944      8510  1354981997                 1\n",
       "43150  7438644       1313      2946      8515  1354981177                 1"
      ]
     },
     "execution_count": null,
     "metadata": {},
     "output_type": "execute_result"
    }
   ],
   "source": [
    "train_df.head()"
   ]
  },
  {
   "cell_type": "code",
   "execution_count": null,
   "metadata": {},
   "outputs": [
    {
     "data": {
      "text/plain": [
       "1000"
      ]
     },
     "execution_count": null,
     "metadata": {},
     "output_type": "execute_result"
    }
   ],
   "source": [
    "len(sample)"
   ]
  },
  {
   "cell_type": "markdown",
   "metadata": {},
   "source": [
    "### Exploring\n",
    "\n",
    "Let's write down some helper functions, shall we? This will also be useful later on"
   ]
  },
  {
   "cell_type": "code",
   "execution_count": null,
   "metadata": {},
   "outputs": [],
   "source": [
    "def get_song_name(id_vocab):\n",
    "    return dataset.df_tracks.loc[id_vocab, 'track']\n",
    "  \n",
    "def get_artist_from_song_id(internal_id):\n",
    "    return dataset.df_tracks.loc[internal_id, 'artist']\n",
    "\n",
    "def get_song_ids(song):\n",
    "    return dataset.df_tracks[dataset.df_tracks[\"track\"]==song]"
   ]
  },
  {
   "cell_type": "markdown",
   "metadata": {},
   "source": [
    "I like Enter Shikari, let's look at some tracks from them!"
   ]
  },
  {
   "cell_type": "code",
   "execution_count": null,
   "metadata": {},
   "outputs": [
    {
     "data": {
      "text/html": [
       "<div>\n",
       "<style scoped>\n",
       "    .dataframe tbody tr th:only-of-type {\n",
       "        vertical-align: middle;\n",
       "    }\n",
       "\n",
       "    .dataframe tbody tr th {\n",
       "        vertical-align: top;\n",
       "    }\n",
       "\n",
       "    .dataframe thead th {\n",
       "        text-align: right;\n",
       "    }\n",
       "</style>\n",
       "<table border=\"1\" class=\"dataframe\">\n",
       "  <thead>\n",
       "    <tr style=\"text-align: right;\">\n",
       "      <th></th>\n",
       "      <th>track</th>\n",
       "      <th>artist_id</th>\n",
       "      <th>artist</th>\n",
       "      <th>albums_id</th>\n",
       "      <th>albums</th>\n",
       "    </tr>\n",
       "    <tr>\n",
       "      <th>track_id</th>\n",
       "      <th></th>\n",
       "      <th></th>\n",
       "      <th></th>\n",
       "      <th></th>\n",
       "      <th></th>\n",
       "    </tr>\n",
       "  </thead>\n",
       "  <tbody>\n",
       "    <tr>\n",
       "      <th>18581</th>\n",
       "      <td>Sorry You're Not a Winner</td>\n",
       "      <td>2868</td>\n",
       "      <td>Enter Shikari</td>\n",
       "      <td>[6170, 155878, 235384, 280133, 286304, 286820,...</td>\n",
       "      <td>['Take To The Skies', \"Sorry You're Not a Winn...</td>\n",
       "    </tr>\n",
       "    <tr>\n",
       "      <th>47814</th>\n",
       "      <td>Sorry, You're Not a Winner</td>\n",
       "      <td>2868</td>\n",
       "      <td>Enter Shikari</td>\n",
       "      <td>[6170, 154899, 235381, 280133, 333147, 496067,...</td>\n",
       "      <td>['Take To The Skies', \"Kerrang! The Album '08\"...</td>\n",
       "    </tr>\n",
       "    <tr>\n",
       "      <th>47831</th>\n",
       "      <td>Common Dreads</td>\n",
       "      <td>2868</td>\n",
       "      <td>Enter Shikari</td>\n",
       "      <td>[17854]</td>\n",
       "      <td>['Common Dreads']</td>\n",
       "    </tr>\n",
       "    <tr>\n",
       "      <th>48500</th>\n",
       "      <td>Wall</td>\n",
       "      <td>2868</td>\n",
       "      <td>Enter Shikari</td>\n",
       "      <td>[17854]</td>\n",
       "      <td>['Common Dreads']</td>\n",
       "    </tr>\n",
       "    <tr>\n",
       "      <th>48501</th>\n",
       "      <td>Juggernauts</td>\n",
       "      <td>2868</td>\n",
       "      <td>Enter Shikari</td>\n",
       "      <td>[17854, 3776890, 4017389, 8547343, 9179535, 10...</td>\n",
       "      <td>['Common Dreads', 'Live in the Barrowland (Boo...</td>\n",
       "    </tr>\n",
       "    <tr>\n",
       "      <th>...</th>\n",
       "      <td>...</td>\n",
       "      <td>...</td>\n",
       "      <td>...</td>\n",
       "      <td>...</td>\n",
       "      <td>...</td>\n",
       "    </tr>\n",
       "    <tr>\n",
       "      <th>3606171</th>\n",
       "      <td>Intro / Destabilise (Live from the Electric Ba...</td>\n",
       "      <td>2868</td>\n",
       "      <td>Enter Shikari</td>\n",
       "      <td>[30364, 155485, 155854]</td>\n",
       "      <td>['A Flash Flood Of Colour', 'A Flash Flood Of ...</td>\n",
       "    </tr>\n",
       "    <tr>\n",
       "      <th>4009598</th>\n",
       "      <td>Sorry You’re Not A Winner</td>\n",
       "      <td>2868</td>\n",
       "      <td>Enter Shikari</td>\n",
       "      <td>[6170, 286820]</td>\n",
       "      <td>['Take To The Skies', 'Live From Planet Earth']</td>\n",
       "    </tr>\n",
       "    <tr>\n",
       "      <th>4624762</th>\n",
       "      <td>Arguing With Thermometers - Goth-Trad Remix</td>\n",
       "      <td>2868</td>\n",
       "      <td>Enter Shikari</td>\n",
       "      <td>[30364, 155854, 657535, 1473662, 5411486]</td>\n",
       "      <td>['A Flash Flood Of Colour', 'A Flash Flood of ...</td>\n",
       "    </tr>\n",
       "    <tr>\n",
       "      <th>5119410</th>\n",
       "      <td>Arguing With Thermometers - Taz Buckfaster Remix</td>\n",
       "      <td>2868</td>\n",
       "      <td>Enter Shikari</td>\n",
       "      <td>[30364, 155854, 657535, 1473662]</td>\n",
       "      <td>['A Flash Flood Of Colour', 'A Flash Flood of ...</td>\n",
       "    </tr>\n",
       "    <tr>\n",
       "      <th>11290926</th>\n",
       "      <td>Anything Can Happen In The Next Half Hour</td>\n",
       "      <td>2868</td>\n",
       "      <td>Enter Shikari</td>\n",
       "      <td>[6170, 184597, 184598, 254136, 274887, 333147,...</td>\n",
       "      <td>['Take To The Skies', 'Anything Can Happen in ...</td>\n",
       "    </tr>\n",
       "  </tbody>\n",
       "</table>\n",
       "<p>142 rows × 5 columns</p>\n",
       "</div>"
      ],
      "text/plain": [
       "                                                      track  artist_id  \\\n",
       "track_id                                                                 \n",
       "18581                             Sorry You're Not a Winner       2868   \n",
       "47814                            Sorry, You're Not a Winner       2868   \n",
       "47831                                         Common Dreads       2868   \n",
       "48500                                                  Wall       2868   \n",
       "48501                                           Juggernauts       2868   \n",
       "...                                                     ...        ...   \n",
       "3606171   Intro / Destabilise (Live from the Electric Ba...       2868   \n",
       "4009598                           Sorry You’re Not A Winner       2868   \n",
       "4624762         Arguing With Thermometers - Goth-Trad Remix       2868   \n",
       "5119410    Arguing With Thermometers - Taz Buckfaster Remix       2868   \n",
       "11290926          Anything Can Happen In The Next Half Hour       2868   \n",
       "\n",
       "                 artist                                          albums_id  \\\n",
       "track_id                                                                     \n",
       "18581     Enter Shikari  [6170, 155878, 235384, 280133, 286304, 286820,...   \n",
       "47814     Enter Shikari  [6170, 154899, 235381, 280133, 333147, 496067,...   \n",
       "47831     Enter Shikari                                            [17854]   \n",
       "48500     Enter Shikari                                            [17854]   \n",
       "48501     Enter Shikari  [17854, 3776890, 4017389, 8547343, 9179535, 10...   \n",
       "...                 ...                                                ...   \n",
       "3606171   Enter Shikari                            [30364, 155485, 155854]   \n",
       "4009598   Enter Shikari                                     [6170, 286820]   \n",
       "4624762   Enter Shikari          [30364, 155854, 657535, 1473662, 5411486]   \n",
       "5119410   Enter Shikari                   [30364, 155854, 657535, 1473662]   \n",
       "11290926  Enter Shikari  [6170, 184597, 184598, 254136, 274887, 333147,...   \n",
       "\n",
       "                                                     albums  \n",
       "track_id                                                     \n",
       "18581     ['Take To The Skies', \"Sorry You're Not a Winn...  \n",
       "47814     ['Take To The Skies', \"Kerrang! The Album '08\"...  \n",
       "47831                                     ['Common Dreads']  \n",
       "48500                                     ['Common Dreads']  \n",
       "48501     ['Common Dreads', 'Live in the Barrowland (Boo...  \n",
       "...                                                     ...  \n",
       "3606171   ['A Flash Flood Of Colour', 'A Flash Flood Of ...  \n",
       "4009598     ['Take To The Skies', 'Live From Planet Earth']  \n",
       "4624762   ['A Flash Flood Of Colour', 'A Flash Flood of ...  \n",
       "5119410   ['A Flash Flood Of Colour', 'A Flash Flood of ...  \n",
       "11290926  ['Take To The Skies', 'Anything Can Happen in ...  \n",
       "\n",
       "[142 rows x 5 columns]"
      ]
     },
     "execution_count": null,
     "metadata": {},
     "output_type": "execute_result"
    }
   ],
   "source": [
    "dataset.df_tracks[dataset.df_tracks[\"artist\"] == \"Enter Shikari\"]"
   ]
  },
  {
   "cell_type": "code",
   "execution_count": null,
   "metadata": {},
   "outputs": [
    {
     "data": {
      "text/plain": [
       "'Enter Shikari'"
      ]
     },
     "execution_count": null,
     "metadata": {},
     "output_type": "execute_result"
    }
   ],
   "source": [
    "get_artist_from_song_id(47814)"
   ]
  },
  {
   "cell_type": "markdown",
   "metadata": {},
   "source": [
    "# Let's Solve the Challenge! \n",
    "\n",
    "We will now design a simple model to tackle the challenge. We will create track embeddings and use those to suggest a song to a user.\n",
    "\n",
    "### CBOW Vector Space of Tracks\n",
    "\n",
    "We will use CBOW on sequences of tracks from each user. CBOW is not the best method to do this, since it's window based (and we don't have a real context window I would say), still, it's interesting to see which patterns we can pick up just from the data we have.\n",
    "\n",
    "We are going to treat the tracks listened by users as sequences of words. I'll just take the tracks and build sentences (trying to keep the tracks in order, for what is possible)!\n",
    "\n",
    "Once we have these sequences we give them in input to word2vec (listening histories are going to be our sentences, and tracks are going to be our words) and we will build a vector space."
   ]
  },
  {
   "attachments": {
    "a1365db6-3491-4d66-8ed2-392509adca99.png": {
     "image/png": "[encoded data removed]"
    }
   },
   "cell_type": "markdown",
   "metadata": {},
   "source": [
    "![evalrs - word2vec.png](attachment:a1365db6-3491-4d66-8ed2-392509adca99.png)"
   ]
  },
  {
   "cell_type": "markdown",
   "metadata": {},
   "source": [
    "### CBOW RecSys\n",
    "\n",
    "So now the question is...how do we use this to suggest novel tracks to a user? \n",
    "\n",
    "We approach the prolem in a very simple way: let's get the user's listening history, and average the embeddings of those tracks (or maybe a sample). Now, let's look at the most similar tracks to that vector in the embedding space. This is an easy approach but intuitively makes sense: it's probable that I will like things similar to the tracks I liked in the past."
   ]
  },
  {
   "attachments": {
    "35428593-4011-4107-9e90-45d105d48c1b.png": {
     "image/png": "[encoded data removed]"
    }
   },
   "cell_type": "markdown",
   "metadata": {},
   "source": [
    "![evalrs - NNs classifier.png](attachment:35428593-4011-4107-9e90-45d105d48c1b.png)"
   ]
  },
  {
   "cell_type": "markdown",
   "metadata": {},
   "source": [
    "### Code, Please\n",
    "\n",
    "Here it is:"
   ]
  },
  {
   "cell_type": "code",
   "execution_count": null,
   "metadata": {},
   "outputs": [],
   "source": [
    "df = train_df[['user_id', 'track_id', 'timestamp']].sort_values('timestamp')"
   ]
  },
  {
   "cell_type": "code",
   "execution_count": null,
   "metadata": {},
   "outputs": [
    {
     "data": {
      "text/plain": [
       "user_id\n",
       "384         [562698, 198978, 177872, 6415, 1593187, 151506...\n",
       "2622        [203184, 306037, 5121, 1685127, 63012, 62788, ...\n",
       "3653        [1037548, 765680, 1082161, 5112, 27750, 391352...\n",
       "5834        [314692, 19724333, 526902, 12665058, 26917, 17...\n",
       "10081       [29863925, 789256, 18918, 18105294, 30504585, ...\n",
       "                                  ...                        \n",
       "50088630    [182267, 182266, 182265, 182264, 12585504, 161...\n",
       "50245939    [516853, 14737877, 29459166, 1436528, 1262734,...\n",
       "50759670    [561219, 561231, 726631, 244988, 45035, 45034,...\n",
       "50761770    [30146501, 8029892, 103852, 661153, 29448707, ...\n",
       "50967444    [20607, 20606, 20605, 20604, 608432, 608431, 8...\n",
       "Name: track_id, Length: 29725, dtype: object"
      ]
     },
     "execution_count": null,
     "metadata": {},
     "output_type": "execute_result"
    }
   ],
   "source": [
    "df.groupby('user_id', sort=True)['track_id'].agg(list)"
   ]
  },
  {
   "cell_type": "code",
   "execution_count": null,
   "metadata": {},
   "outputs": [],
   "source": [
    "user_tracks = df.groupby('user_id', sort=True)['track_id'].agg(list)"
   ]
  },
  {
   "cell_type": "code",
   "execution_count": null,
   "metadata": {},
   "outputs": [],
   "source": [
    "seq_tracks = user_tracks.values.tolist()"
   ]
  },
  {
   "cell_type": "code",
   "execution_count": null,
   "metadata": {},
   "outputs": [],
   "source": [
    "word2vec_model = Word2Vec(seq_tracks, min_count=0, vector_size=20, window=40, epochs=5)"
   ]
  },
  {
   "cell_type": "code",
   "execution_count": null,
   "metadata": {},
   "outputs": [],
   "source": [
    "user_tracks_df = pd.DataFrame(user_tracks)"
   ]
  },
  {
   "cell_type": "code",
   "execution_count": null,
   "metadata": {},
   "outputs": [],
   "source": [
    "user_tracks_df['track_id_sampled'] = user_tracks_df['track_id'].apply(lambda x: random.choices(x, k=40))"
   ]
  },
  {
   "cell_type": "code",
   "execution_count": null,
   "metadata": {},
   "outputs": [
    {
     "data": {
      "text/html": [
       "<div>\n",
       "<style scoped>\n",
       "    .dataframe tbody tr th:only-of-type {\n",
       "        vertical-align: middle;\n",
       "    }\n",
       "\n",
       "    .dataframe tbody tr th {\n",
       "        vertical-align: top;\n",
       "    }\n",
       "\n",
       "    .dataframe thead th {\n",
       "        text-align: right;\n",
       "    }\n",
       "</style>\n",
       "<table border=\"1\" class=\"dataframe\">\n",
       "  <thead>\n",
       "    <tr style=\"text-align: right;\">\n",
       "      <th></th>\n",
       "      <th>track_id</th>\n",
       "      <th>track_id_sampled</th>\n",
       "    </tr>\n",
       "    <tr>\n",
       "      <th>user_id</th>\n",
       "      <th></th>\n",
       "      <th></th>\n",
       "    </tr>\n",
       "  </thead>\n",
       "  <tbody>\n",
       "    <tr>\n",
       "      <th>384</th>\n",
       "      <td>[562698, 198978, 177872, 6415, 1593187, 151506...</td>\n",
       "      <td>[68870, 328139, 10330778, 186171, 949365, 7798...</td>\n",
       "    </tr>\n",
       "    <tr>\n",
       "      <th>2622</th>\n",
       "      <td>[203184, 306037, 5121, 1685127, 63012, 62788, ...</td>\n",
       "      <td>[306037, 318387, 2361114, 105341, 362505, 1022...</td>\n",
       "    </tr>\n",
       "    <tr>\n",
       "      <th>3653</th>\n",
       "      <td>[1037548, 765680, 1082161, 5112, 27750, 391352...</td>\n",
       "      <td>[160530, 448184, 1928526, 850854, 1128181, 592...</td>\n",
       "    </tr>\n",
       "    <tr>\n",
       "      <th>5834</th>\n",
       "      <td>[314692, 19724333, 526902, 12665058, 26917, 17...</td>\n",
       "      <td>[287493, 1219718, 112326, 16205882, 250968, 31...</td>\n",
       "    </tr>\n",
       "    <tr>\n",
       "      <th>10081</th>\n",
       "      <td>[29863925, 789256, 18918, 18105294, 30504585, ...</td>\n",
       "      <td>[680321, 29449502, 29235, 29235, 30539793, 219...</td>\n",
       "    </tr>\n",
       "    <tr>\n",
       "      <th>...</th>\n",
       "      <td>...</td>\n",
       "      <td>...</td>\n",
       "    </tr>\n",
       "    <tr>\n",
       "      <th>50088630</th>\n",
       "      <td>[182267, 182266, 182265, 182264, 12585504, 161...</td>\n",
       "      <td>[162197, 215031, 68163, 29534, 182265, 297427,...</td>\n",
       "    </tr>\n",
       "    <tr>\n",
       "      <th>50245939</th>\n",
       "      <td>[516853, 14737877, 29459166, 1436528, 1262734,...</td>\n",
       "      <td>[17090, 927141, 715374, 445231, 10416388, 2947...</td>\n",
       "    </tr>\n",
       "    <tr>\n",
       "      <th>50759670</th>\n",
       "      <td>[561219, 561231, 726631, 244988, 45035, 45034,...</td>\n",
       "      <td>[357312, 561192, 233924, 48471, 196583, 580, 7...</td>\n",
       "    </tr>\n",
       "    <tr>\n",
       "      <th>50761770</th>\n",
       "      <td>[30146501, 8029892, 103852, 661153, 29448707, ...</td>\n",
       "      <td>[184039, 29453312, 454149, 11123, 30180906, 18...</td>\n",
       "    </tr>\n",
       "    <tr>\n",
       "      <th>50967444</th>\n",
       "      <td>[20607, 20606, 20605, 20604, 608432, 608431, 8...</td>\n",
       "      <td>[411426, 257078, 161757, 495937, 12924492, 172...</td>\n",
       "    </tr>\n",
       "  </tbody>\n",
       "</table>\n",
       "<p>29725 rows × 2 columns</p>\n",
       "</div>"
      ],
      "text/plain": [
       "                                                   track_id  \\\n",
       "user_id                                                       \n",
       "384       [562698, 198978, 177872, 6415, 1593187, 151506...   \n",
       "2622      [203184, 306037, 5121, 1685127, 63012, 62788, ...   \n",
       "3653      [1037548, 765680, 1082161, 5112, 27750, 391352...   \n",
       "5834      [314692, 19724333, 526902, 12665058, 26917, 17...   \n",
       "10081     [29863925, 789256, 18918, 18105294, 30504585, ...   \n",
       "...                                                     ...   \n",
       "50088630  [182267, 182266, 182265, 182264, 12585504, 161...   \n",
       "50245939  [516853, 14737877, 29459166, 1436528, 1262734,...   \n",
       "50759670  [561219, 561231, 726631, 244988, 45035, 45034,...   \n",
       "50761770  [30146501, 8029892, 103852, 661153, 29448707, ...   \n",
       "50967444  [20607, 20606, 20605, 20604, 608432, 608431, 8...   \n",
       "\n",
       "                                           track_id_sampled  \n",
       "user_id                                                      \n",
       "384       [68870, 328139, 10330778, 186171, 949365, 7798...  \n",
       "2622      [306037, 318387, 2361114, 105341, 362505, 1022...  \n",
       "3653      [160530, 448184, 1928526, 850854, 1128181, 592...  \n",
       "5834      [287493, 1219718, 112326, 16205882, 250968, 31...  \n",
       "10081     [680321, 29449502, 29235, 29235, 30539793, 219...  \n",
       "...                                                     ...  \n",
       "50088630  [162197, 215031, 68163, 29534, 182265, 297427,...  \n",
       "50245939  [17090, 927141, 715374, 445231, 10416388, 2947...  \n",
       "50759670  [357312, 561192, 233924, 48471, 196583, 580, 7...  \n",
       "50761770  [184039, 29453312, 454149, 11123, 30180906, 18...  \n",
       "50967444  [411426, 257078, 161757, 495937, 12924492, 172...  \n",
       "\n",
       "[29725 rows x 2 columns]"
      ]
     },
     "execution_count": null,
     "metadata": {},
     "output_type": "execute_result"
    }
   ],
   "source": [
    "user_tracks_df"
   ]
  },
  {
   "cell_type": "code",
   "execution_count": null,
   "metadata": {},
   "outputs": [],
   "source": [
    "mappings = user_tracks_df.T.to_dict()"
   ]
  },
  {
   "cell_type": "code",
   "execution_count": null,
   "metadata": {},
   "outputs": [
    {
     "data": {
      "text/plain": [
       "[384, 2622, 3653, 5834, 10081, 15434, 15541, 1000842, 1007118, 1009181]"
      ]
     },
     "execution_count": null,
     "metadata": {},
     "output_type": "execute_result"
    }
   ],
   "source": [
    "list(mappings.keys())[:10]"
   ]
  },
  {
   "cell_type": "markdown",
   "metadata": {},
   "source": [
    "We have the list of users and for each user, list of 40 tracks that they may like"
   ]
  },
  {
   "cell_type": "markdown",
   "metadata": {},
   "source": [
    "Now given the user and the track he just listened what are the others tracks he may like."
   ]
  },
  {
   "cell_type": "code",
   "execution_count": null,
   "metadata": {},
   "outputs": [
    {
     "data": {
      "text/plain": [
       "user_id       384\n",
       "track_id    97653\n",
       "Name: 323293759, dtype: int32"
      ]
     },
     "execution_count": null,
     "metadata": {},
     "output_type": "execute_result"
    }
   ],
   "source": [
    "test.iloc[0]"
   ]
  },
  {
   "cell_type": "code",
   "execution_count": null,
   "metadata": {},
   "outputs": [],
   "source": [
    "user_id=384\n",
    "k=100"
   ]
  },
  {
   "cell_type": "code",
   "execution_count": null,
   "metadata": {},
   "outputs": [],
   "source": [
    "# for the user get the sampled tracks from the mapping.\n",
    "u_tracks = mappings[user_id]"
   ]
  },
  {
   "cell_type": "code",
   "execution_count": null,
   "metadata": {},
   "outputs": [
    {
     "data": {
      "text/plain": [
       "[562698, 198978, 177872, 6415, 1593187, 151506, 189483, 1106814, 260694, 1493]"
      ]
     },
     "execution_count": null,
     "metadata": {},
     "output_type": "execute_result"
    }
   ],
   "source": [
    "u_tracks.get('track_id')[:10]"
   ]
  },
  {
   "cell_type": "code",
   "execution_count": null,
   "metadata": {},
   "outputs": [
    {
     "data": {
      "text/plain": [
       "<gensim.models.keyedvectors.KeyedVectors>"
      ]
     },
     "execution_count": null,
     "metadata": {},
     "output_type": "execute_result"
    }
   ],
   "source": [
    "# mapping b/w keys and vectors\n",
    "word2vec_model.wv"
   ]
  },
  {
   "cell_type": "code",
   "execution_count": null,
   "metadata": {},
   "outputs": [
    {
     "data": {
      "text/plain": [
       "(20,)"
      ]
     },
     "execution_count": null,
     "metadata": {},
     "output_type": "execute_result"
    }
   ],
   "source": [
    "# lets get vector for a single track\n",
    "word2vec_model.wv[562698].shape"
   ]
  },
  {
   "cell_type": "code",
   "execution_count": null,
   "metadata": {},
   "outputs": [
    {
     "data": {
      "text/plain": [
       "array([ 0.13259612,  0.27240062, -0.06540779,  0.02737947,  0.30605963,\n",
       "       -0.74657714, -0.46147314,  0.8053045 , -0.01339404,  0.7868097 ,\n",
       "       -0.14108227, -1.0705111 , -0.76083267, -0.0073057 , -0.03063416,\n",
       "       -0.14271344,  0.2370426 , -0.9314594 ,  0.23173666, -0.7301065 ],\n",
       "      dtype=float32)"
      ]
     },
     "execution_count": null,
     "metadata": {},
     "output_type": "execute_result"
    }
   ],
   "source": [
    "word2vec_model.wv[u_tracks.get('track_id')[0]]"
   ]
  },
  {
   "cell_type": "code",
   "execution_count": null,
   "metadata": {},
   "outputs": [
    {
     "data": {
      "text/plain": [
       "array([ 0.09186017,  2.418743  ,  0.865069  ,  0.13746378,  0.5990799 ,\n",
       "       -1.4353967 , -2.5353687 , -0.7811534 ,  0.37181237,  0.33890948,\n",
       "        0.9218124 , -1.136149  , -3.2183924 ,  0.6227271 , -0.6263475 ,\n",
       "        0.22880977,  0.96315956, -1.5252101 ,  1.6092639 , -0.04416701],\n",
       "      dtype=float32)"
      ]
     },
     "execution_count": null,
     "metadata": {},
     "output_type": "execute_result"
    }
   ],
   "source": [
    "word2vec_model.wv[u_tracks.get('track_id')[1]]"
   ]
  },
  {
   "cell_type": "code",
   "execution_count": null,
   "metadata": {},
   "outputs": [
    {
     "data": {
      "text/plain": [
       "array([ 0.13259612,  0.27240062, -0.06540779,  0.02737947,  0.30605963,\n",
       "       -0.74657714, -0.46147314,  0.8053045 , -0.01339404,  0.7868097 ,\n",
       "       -0.14108227, -1.0705111 , -0.76083267, -0.0073057 , -0.03063416,\n",
       "       -0.14271344,  0.2370426 , -0.9314594 ,  0.23173666, -0.7301065 ],\n",
       "      dtype=float32)"
      ]
     },
     "execution_count": null,
     "metadata": {},
     "output_type": "execute_result"
    }
   ],
   "source": [
    "np.mean([word2vec_model.wv[u_tracks.get('track_id')[0]], word2vec_model.wv[u_tracks.get('track_id')[0]]], axis=0)"
   ]
  },
  {
   "cell_type": "markdown",
   "metadata": {},
   "source": [
    "Only when we do column wise averaging, we can get a nuanced user embedding more meaninful capturing the intricate taste profile of the user."
   ]
  },
  {
   "cell_type": "code",
   "execution_count": null,
   "metadata": {},
   "outputs": [
    {
     "data": {
      "text/plain": [
       "array([-0.11510839, -0.11510839], dtype=float32)"
      ]
     },
     "execution_count": null,
     "metadata": {},
     "output_type": "execute_result"
    }
   ],
   "source": [
    "np.mean([word2vec_model.wv[u_tracks.get('track_id')[0]], word2vec_model.wv[u_tracks.get('track_id')[0]]], axis=1)"
   ]
  },
  {
   "cell_type": "markdown",
   "metadata": {},
   "source": [
    "When we do row wise, we are just getting average of the numbers from the track."
   ]
  },
  {
   "cell_type": "code",
   "execution_count": null,
   "metadata": {},
   "outputs": [],
   "source": [
    "from fastcore.all import *\n",
    "import numpy as np"
   ]
  },
  {
   "cell_type": "code",
   "execution_count": null,
   "metadata": {},
   "outputs": [],
   "source": [
    "a = np.array([[1,2], [3,4]])\n",
    "test_eq(np.mean(a, axis=0), np.array([2., 3.])) # column wise\n",
    "test_eq(np.mean(a, axis=1), np.array([1.5, 3.5])) # row wise"
   ]
  },
  {
   "cell_type": "code",
   "execution_count": null,
   "metadata": {},
   "outputs": [],
   "source": [
    "# avg the embedding (column wise) from all tracks to get the user embedding\n",
    "user_embedding = np.mean([word2vec_model.wv[t] for t in u_tracks.get('track_id')], axis=0)"
   ]
  },
  {
   "cell_type": "code",
   "execution_count": null,
   "metadata": {},
   "outputs": [
    {
     "data": {
      "text/plain": [
       "311"
      ]
     },
     "execution_count": null,
     "metadata": {},
     "output_type": "execute_result"
    }
   ],
   "source": [
    "max_items_returned = len(u_tracks.get('track_id')) + k; max_items_returned"
   ]
  },
  {
   "cell_type": "code",
   "execution_count": null,
   "metadata": {},
   "outputs": [],
   "source": [
    "# Find the top-N most similar keys.: Positive keys contribute positively towards the similarity, negative keys negatively.\n",
    "preds = word2vec_model.wv.most_similar(positive=[user_embedding], topn=max_items_returned)"
   ]
  },
  {
   "cell_type": "code",
   "execution_count": null,
   "metadata": {},
   "outputs": [
    {
     "data": {
      "text/plain": [
       "(520161, 0.9930781722068787)"
      ]
     },
     "execution_count": null,
     "metadata": {},
     "output_type": "execute_result"
    }
   ],
   "source": [
    "preds[0]"
   ]
  },
  {
   "cell_type": "code",
   "execution_count": null,
   "metadata": {},
   "outputs": [
    {
     "data": {
      "text/plain": [
       "311"
      ]
     },
     "execution_count": null,
     "metadata": {},
     "output_type": "execute_result"
    }
   ],
   "source": [
    "user_predictions = [each[0] for each in preds];len(user_predictions)"
   ]
  },
  {
   "cell_type": "code",
   "execution_count": null,
   "metadata": {},
   "outputs": [
    {
     "data": {
      "text/plain": [
       "310"
      ]
     },
     "execution_count": null,
     "metadata": {},
     "output_type": "execute_result"
    }
   ],
   "source": [
    "user_predictions = list(filter(lambda x: x not in u_tracks.get('track_id'), user_predictions));len(user_predictions)"
   ]
  },
  {
   "cell_type": "code",
   "execution_count": null,
   "metadata": {},
   "outputs": [],
   "source": [
    "class CBOWRecSys(RecModel):\n",
    "\n",
    "    def __init__(self, top_k: int=100):\n",
    "        super(CBOWRecSys, self).__init__()\n",
    "        \"\"\"\n",
    "        :param top_k: numbers of recommendation to return for each user. Defaults to 20.\n",
    "        \"\"\"\n",
    "        self.top_k = top_k\n",
    "        self.mappings = None\n",
    "\n",
    "    def train(self, train_df: pd.DataFrame, **kwargs):\n",
    "        \n",
    "        # let's put tracks in order so we can build those sentences\n",
    "        df = train_df[['user_id', 'track_id', 'timestamp']].sort_values('timestamp')\n",
    "        \n",
    "        # we group by user and create sequences of tracks. \n",
    "        # each row in \"track_id\" will be a sequence of tracks\n",
    "        p = df.groupby('user_id', sort=False)['track_id'].agg(list)\n",
    "        \n",
    "        # we now build \"sentences\" : sequences of tracks\n",
    "        sentences = p.values.tolist()\n",
    "\n",
    "        # train word2vec:\n",
    "        # large window and small vector size...lots of epochs\n",
    "        self.mymodel = Word2Vec(sentences, min_count=0, vector_size=20, window=40, epochs=5)\n",
    "        \n",
    "        user_tracks = pd.DataFrame(p)\n",
    "        \n",
    "        # we sample 40 songs for each user. This will be used at runtime to build\n",
    "        # a user vector\n",
    "        user_tracks[\"track_id_sampled\"] = user_tracks[\"track_id\"].apply(lambda x : random.choices(x, k=40)) \n",
    "\n",
    "        # this dictionary maps users to the songs:\n",
    "        # {\"user_k\" : {\"track_id\" : [...], \"track_id_sampled\" : [...]}}\n",
    "        self.mappings = user_tracks.T.to_dict()\n",
    "\n",
    "    def predict(self, user_ids: pd.DataFrame) -> pd.DataFrame:\n",
    "\n",
    "        user_ids = user_ids.copy()\n",
    "        k = self.top_k\n",
    "\n",
    "       \n",
    "        pbar = tqdm(total=len(user_ids), position=0)\n",
    "        \n",
    "        predictions = []\n",
    "        \n",
    "        # probably not the fastest way to do this\n",
    "        for user in user_ids[\"user_id\"]:\n",
    "          \n",
    "          \t# for each user we get their sample tracks\n",
    "            user_tracks = self.mappings[user][\"track_id_sampled\"]\n",
    "            \n",
    "            # average to get user embedding\n",
    "            get_user_embedding = np.mean([self.mymodel.wv[t] for t in user_tracks], axis=0)\n",
    "            \n",
    "            \n",
    "            # we need to filter out stuff from the user history. We don't want to suggest to the user \n",
    "            # something they have already listened to\n",
    "            max_number_of_returned_items = len(self.mappings[user][\"track_id\"]) + self.top_k\n",
    "\n",
    "            # let's predict the tracks\n",
    "            user_predictions = [k[0] for k in self.mymodel.wv.most_similar(positive=[get_user_embedding], \n",
    "                                                                           topn=max_number_of_returned_items)]\n",
    "            # let's filter out songs the user has already listened to\n",
    "            user_predictions = list(filter(lambda x: x not in \n",
    "                                           self.mappings[user][\"track_id\"], user_predictions))[0:self.top_k]\n",
    "            \n",
    "            # append to the return list\n",
    "            predictions.append(user_predictions)\n",
    "\n",
    "            pbar.update(1)\n",
    "        pbar.close()\n",
    "        \n",
    "        # lil trick to reconstruct a dataframe that has user ids as index and the predictions as columns\n",
    "        # This is a very important part! consistency in how you return the results is fundamental for the \n",
    "        # evaluation\n",
    "     \n",
    "        users = user_ids[\"user_id\"].values.reshape(-1, 1)\n",
    "        predictions = np.concatenate([users, np.array(predictions)], axis=1)\n",
    "        return pd.DataFrame(predictions, columns=['user_id', *[str(i) for i in range(k)]]).set_index('user_id')"
   ]
  },
  {
   "cell_type": "code",
   "execution_count": null,
   "metadata": {},
   "outputs": [],
   "source": [
    "# instantiate this\n",
    "cbow_recsys = CBOWRecSys()"
   ]
  },
  {
   "cell_type": "markdown",
   "metadata": {},
   "source": [
    "next step should take 5-6 minutes to train"
   ]
  },
  {
   "cell_type": "code",
   "execution_count": null,
   "metadata": {},
   "outputs": [
    {
     "name": "stdout",
     "output_type": "stream",
     "text": [
      "CPU times: user 5min 58s, sys: 2.66 s, total: 6min\n",
      "Wall time: 2min 19s\n"
     ]
    }
   ],
   "source": [
    "%%time\n",
    "cbow_recsys.train(train_df)"
   ]
  },
  {
   "cell_type": "code",
   "execution_count": null,
   "metadata": {},
   "outputs": [
    {
     "name": "stderr",
     "output_type": "stream",
     "text": [
      "  0%|                                                                                          | 0/10 [00:00<?, ?it/s]"
     ]
    },
    {
     "ename": "KeyError",
     "evalue": "46818662",
     "output_type": "error",
     "traceback": [
      "\u001b[0;31m---------------------------------------------------------------------------\u001b[0m",
      "\u001b[0;31mKeyError\u001b[0m                                  Traceback (most recent call last)",
      "Input \u001b[0;32mIn [104]\u001b[0m, in \u001b[0;36m<cell line: 1>\u001b[0;34m()\u001b[0m\n\u001b[0;32m----> 1\u001b[0m predicted \u001b[38;5;241m=\u001b[39m \u001b[43mcbow_recsys\u001b[49m\u001b[38;5;241;43m.\u001b[39;49m\u001b[43mpredict\u001b[49m\u001b[43m(\u001b[49m\u001b[43mtest_df\u001b[49m\u001b[38;5;241;43m.\u001b[39;49m\u001b[43msample\u001b[49m\u001b[43m(\u001b[49m\u001b[38;5;241;43m10\u001b[39;49m\u001b[43m)\u001b[49m\u001b[43m)\u001b[49m\n",
      "Input \u001b[0;32mIn [97]\u001b[0m, in \u001b[0;36mCBOWRecSys.predict\u001b[0;34m(self, user_ids)\u001b[0m\n\u001b[1;32m     47\u001b[0m \u001b[38;5;66;03m# probably not the fastest way to do this\u001b[39;00m\n\u001b[1;32m     48\u001b[0m \u001b[38;5;28;01mfor\u001b[39;00m user \u001b[38;5;129;01min\u001b[39;00m user_ids[\u001b[38;5;124m\"\u001b[39m\u001b[38;5;124muser_id\u001b[39m\u001b[38;5;124m\"\u001b[39m]:\n\u001b[1;32m     49\u001b[0m   \n\u001b[1;32m     50\u001b[0m   \t\u001b[38;5;66;03m# for each user we get their sample tracks\u001b[39;00m\n\u001b[0;32m---> 51\u001b[0m     user_tracks \u001b[38;5;241m=\u001b[39m \u001b[38;5;28;43mself\u001b[39;49m\u001b[38;5;241;43m.\u001b[39;49m\u001b[43mmappings\u001b[49m\u001b[43m[\u001b[49m\u001b[43muser\u001b[49m\u001b[43m]\u001b[49m[\u001b[38;5;124m\"\u001b[39m\u001b[38;5;124mtrack_id_sampled\u001b[39m\u001b[38;5;124m\"\u001b[39m]\n\u001b[1;32m     53\u001b[0m     \u001b[38;5;66;03m# average to get user embedding\u001b[39;00m\n\u001b[1;32m     54\u001b[0m     get_user_embedding \u001b[38;5;241m=\u001b[39m np\u001b[38;5;241m.\u001b[39mmean([\u001b[38;5;28mself\u001b[39m\u001b[38;5;241m.\u001b[39mmymodel\u001b[38;5;241m.\u001b[39mwv[t] \u001b[38;5;28;01mfor\u001b[39;00m t \u001b[38;5;129;01min\u001b[39;00m user_tracks], axis\u001b[38;5;241m=\u001b[39m\u001b[38;5;241m0\u001b[39m)\n",
      "\u001b[0;31mKeyError\u001b[0m: 46818662"
     ]
    }
   ],
   "source": [
    "predicted = cbow_recsys.predict(test_df.sample(10)) # let's test only on a couple of elements"
   ]
  },
  {
   "cell_type": "markdown",
   "metadata": {},
   "source": [
    "the predictions is a pandas dataframe, with user ids and the topk items predicted for a user"
   ]
  },
  {
   "cell_type": "code",
   "execution_count": null,
   "metadata": {},
   "outputs": [],
   "source": [
    "predicted"
   ]
  },
  {
   "cell_type": "markdown",
   "metadata": {},
   "source": [
    "### Intermezzo: Explore and Visualize Track Embeddings\n",
    "\n",
    "\n",
    "A lot of the code here comes from this [very nice blog post](https://towardsdatascience.com/google-news-and-leo-tolstoy-visualizing-word2vec-word-embeddings-with-t-sne-11558d8bd4d)."
   ]
  },
  {
   "cell_type": "code",
   "execution_count": null,
   "metadata": {},
   "outputs": [],
   "source": [
    "def get_embedding_from_id(internal_id):\n",
    "    return cbow_recsys.mymodel.wv[internal_id]\n",
    "\n",
    "def get_most_similar_with_titles(internal_id):\n",
    "    \"\"\"\n",
    "    returns most similar songs to a track id. returned songs will appear in the format: title - author\n",
    "    \"\"\"\n",
    "    return [(get_song_name(k[0]), get_artist_from_song_id(k[0])) for k in cbow_recsys.mymodel.wv.most_similar(internal_id)]"
   ]
  },
  {
   "cell_type": "markdown",
   "metadata": {},
   "source": [
    "Let's take an Enter Shikari song and let's print the neighborhood"
   ]
  },
  {
   "cell_type": "code",
   "execution_count": null,
   "metadata": {},
   "outputs": [],
   "source": [
    "get_song_name(18581)"
   ]
  },
  {
   "cell_type": "code",
   "execution_count": null,
   "metadata": {},
   "outputs": [],
   "source": [
    "get_most_similar_with_titles(18581)"
   ]
  },
  {
   "cell_type": "markdown",
   "metadata": {},
   "source": [
    "Well these similar tracks makes sense! \n",
    "\n",
    "Let's look at another song...maybe from All Time Low now?"
   ]
  },
  {
   "cell_type": "code",
   "execution_count": null,
   "metadata": {},
   "outputs": [],
   "source": [
    "get_artist_from_song_id(14634537)"
   ]
  },
  {
   "cell_type": "code",
   "execution_count": null,
   "metadata": {},
   "outputs": [],
   "source": [
    "get_song_name(14634537)"
   ]
  },
  {
   "cell_type": "code",
   "execution_count": null,
   "metadata": {},
   "outputs": [],
   "source": [
    "get_most_similar_with_titles(14634537)"
   ]
  },
  {
   "cell_type": "markdown",
   "metadata": {},
   "source": [
    "Very cool! The embedding seems good! (we could probably improve it with some more careful training, but it should be good for now)."
   ]
  },
  {
   "cell_type": "markdown",
   "metadata": {},
   "source": [
    "### Plotting\n",
    "\n",
    "\n",
    "We now get some songs and try to plot them using T-SNE."
   ]
  },
  {
   "cell_type": "code",
   "execution_count": null,
   "metadata": {},
   "outputs": [],
   "source": [
    "import random\n",
    "\n",
    "# getting some songs from the vocab (you can get this from the tracks list, e.g., \"2\" is Hanger 18 from Megadeth)\n",
    "sample_from_vocab = [2, 50630, 16110, 759, 18581]\n",
    "\n",
    "\n",
    "sample_from_vocab_named = [f\"{get_song_name(k)} - {get_artist_from_song_id(k)}\" for k in sample_from_vocab]\n",
    "\n",
    "embedding_clusters = []\n",
    "word_clusters = []\n",
    "for word in sample_from_vocab:\n",
    "    embeddings = []\n",
    "    words = []\n",
    "    \n",
    "    for similar_word, _ in cbow_recsys.mymodel.wv.most_similar(word, topn=5):\n",
    "        words.append(f\"{get_song_name(similar_word)} - {get_artist_from_song_id(similar_word)}\")\n",
    "        embeddings.append(cbow_recsys.mymodel.wv[similar_word])\n",
    "\n",
    "    embedding_clusters.append(embeddings)\n",
    "    word_clusters.append(words)"
   ]
  },
  {
   "cell_type": "code",
   "execution_count": null,
   "metadata": {},
   "outputs": [],
   "source": [
    "embedding_clusters = np.array(embedding_clusters)\n",
    "n, m, k = embedding_clusters.shape\n",
    "tsne_model_en_2d = TSNE(perplexity=15, n_components=2, n_iter=8000, random_state=32)\n",
    "embeddings_en_2d = np.array(tsne_model_en_2d.fit_transform(embedding_clusters.reshape(n * m, k))).reshape(n, m, 2)"
   ]
  },
  {
   "cell_type": "code",
   "execution_count": null,
   "metadata": {},
   "outputs": [],
   "source": [
    "def tsne_plot_similar_tracks(title, labels, embedding_clusters, word_clusters, a):\n",
    "    \"\"\"\n",
    "    Function to plot TSNE embeddings\n",
    "    \"\"\"\n",
    "    plt.figure(figsize=(16, 9))\n",
    "    colors = cm.rainbow(np.linspace(0, 1, len(labels)))\n",
    "    for label, embeddings, words, color in zip(labels, embedding_clusters, word_clusters, colors):\n",
    "        x = embeddings[:, 0]\n",
    "        y = embeddings[:, 1]\n",
    "        plt.scatter(x, y, c=color, alpha=a, label=label)\n",
    "        for i, word in enumerate(words):\n",
    "            plt.annotate(word, alpha=0.5, xy=(x[i], y[i]), xytext=(5, 2),\n",
    "                         textcoords='offset points', ha='right', va='bottom', size=8)\n",
    "    plt.legend(loc=4)\n",
    "    plt.title(title)\n",
    "    plt.grid(True)\n",
    "  \n",
    "    plt.show()"
   ]
  },
  {
   "cell_type": "code",
   "execution_count": null,
   "metadata": {},
   "outputs": [],
   "source": [
    "tsne_plot_similar_tracks('Clusters Of Tracks', sample_from_vocab_named, embeddings_en_2d, word_clusters, 0.7)"
   ]
  },
  {
   "cell_type": "markdown",
   "metadata": {},
   "source": [
    "## Evaluation\n",
    "\n",
    "We need to create our evaluation runner. The class accepts a couple of paramters but we ignore them for now, they are mainly useful for paper submission."
   ]
  },
  {
   "cell_type": "code",
   "execution_count": null,
   "metadata": {},
   "outputs": [],
   "source": [
    "runner = EvalRSRunner(dataset)"
   ]
  },
  {
   "cell_type": "markdown",
   "metadata": {},
   "source": [
    "This is going to take a bit..."
   ]
  },
  {
   "cell_type": "code",
   "execution_count": null,
   "metadata": {},
   "outputs": [],
   "source": [
    "cbow_recsys = CBOWRecSys()\n",
    "runner.evaluate(cbow_recsys, upload=False)"
   ]
  },
  {
   "cell_type": "markdown",
   "metadata": {},
   "source": [
    "# What Now?\n",
    "\n",
    "Well we haven't really submitted anything to the leaderboard yet. To do this, you first need to register to the challenge.\n",
    "\n",
    "You can follow [the instructions here](https://github.com/RecList/evalRS-CIKM-2022#how-to-join-the-race)! Good Luck!"
   ]
  },
  {
   "cell_type": "code",
   "execution_count": null,
   "metadata": {},
   "outputs": [],
   "source": [
    "# this is the runner you need to prepare to submit\n",
    "runner = EvalRSRunner(\n",
    "    dataset=dataset,\n",
    "    aws_access_key_id=AWS_ACCESS_KEY,\n",
    "    aws_secret_access_key=AWS_SECRET_KEY,\n",
    "    participant_id=PARTICIPANT_ID,\n",
    "    bucket_name=BUCKET_NAME,\n",
    "    email=EMAIL\n",
    "    )"
   ]
  },
  {
   "cell_type": "code",
   "execution_count": null,
   "metadata": {},
   "outputs": [],
   "source": []
  }
 ],
 "metadata": {
  "kernelspec": {
   "display_name": "evalRS",
   "language": "python",
   "name": "evalrs"
  }
 },
 "nbformat": 4,
 "nbformat_minor": 4
}
