{
 "cells": [
  {
   "cell_type": "markdown",
   "id": "9d417abd-a4ff-4699-9ce3-a8693d3b4980",
   "metadata": {},
   "source": [
    "# Sample TestRSReclist \n",
    "\n",
    "Evaluation walkthrough using a single fold and replication of a custom reclist ie hit rate@100"
   ]
  },
  {
   "cell_type": "code",
   "execution_count": null,
   "id": "0454bd4b-c17b-4c6d-af19-b16eb3ec9dfe",
   "metadata": {},
   "outputs": [],
   "source": [
    "%reload_ext autoreload\n",
    "%autoreload 2"
   ]
  },
  {
   "cell_type": "code",
   "execution_count": null,
   "id": "3a42413a-3e4a-4a35-a89e-4859ec301a31",
   "metadata": {},
   "outputs": [],
   "source": [
    "from nbdev.showdoc import show_doc"
   ]
  },
  {
   "cell_type": "code",
   "execution_count": null,
   "id": "4052e1c5-60e2-4caf-b21c-e989e2e3348e",
   "metadata": {},
   "outputs": [],
   "source": [
    "import os\n",
    "from datetime import datetime\n",
    "from dotenv import load_dotenv\n",
    "\n",
    "load_dotenv('upload.env', verbose=True)\n",
    "\n",
    "# variables for the submission\n",
    "EMAIL = os.getenv('EMAIL')  # the e-mail you used to sign up\n",
    "BUCKET_NAME = os.getenv('BUCKET_NAME')  # you received it in your e-mail\n",
    "PARTICIPANT_ID = os.getenv('PARTICIPANT_ID')  # you received it in your e-mail\n",
    "AWS_ACCESS_KEY = os.getenv('AWS_ACCESS_KEY')  # you received it in your e-mail\n",
    "AWS_SECRET_KEY = os.getenv('AWS_SECRET_KEY')  # you received it in your e-mail\n",
    "\n",
    "\n",
    "\n",
    "from collections import namedtuple\n",
    "\n",
    "CFG=namedtuple('CFG',['SEED', 'NUM_FOLDS'])\n",
    "c = CFG(SEED=42, NUM_FOLDS=1)"
   ]
  },
  {
   "cell_type": "code",
   "execution_count": null,
   "id": "2007a051-547d-4337-89c6-74abbf79c0a7",
   "metadata": {},
   "outputs": [],
   "source": [
    "from evaluation.EvalRSRunner import EvalRSRunner, EvalRSDataset\n",
    "from evaluation.EvalRSRunner import ChallengeDataset\n",
    "from submission.CBOWRecSys import CBoWRecSys\n",
    "from submission.SkipGramRecSys import SkipGramRecSys"
   ]
  },
  {
   "cell_type": "code",
   "execution_count": null,
   "id": "030401f5-f3f8-4a2a-82f1-1c924846d772",
   "metadata": {},
   "outputs": [
    {
     "name": "stdout",
     "output_type": "stream",
     "text": [
      "LFM dataset already downloaded. Skipping download.\n",
      "Loading dataset.\n",
      "Generating folds.\n",
      "Generating dataset hashes.\n"
     ]
    }
   ],
   "source": [
    "dset = ChallengeDataset(num_folds=c.NUM_FOLDS, seed=c.SEED)"
   ]
  },
  {
   "cell_type": "code",
   "execution_count": null,
   "id": "622112f1-e8a1-4709-90a7-74139362bc00",
   "metadata": {},
   "outputs": [],
   "source": [
    "train0 = dset._get_train_set(0)\n",
    "test0 = dset._get_test_set(0)"
   ]
  },
  {
   "cell_type": "code",
   "execution_count": null,
   "id": "ee568746-ba89-42a3-8387-01fba486c9f1",
   "metadata": {},
   "outputs": [
    {
     "data": {
      "text/plain": [
       "(6849244, 29717)"
      ]
     },
     "execution_count": null,
     "metadata": {},
     "output_type": "execute_result"
    }
   ],
   "source": [
    "len(train0), len(test0)"
   ]
  },
  {
   "cell_type": "code",
   "execution_count": null,
   "id": "e3e15555-8d91-4555-859c-5e3ca40cb0cd",
   "metadata": {},
   "outputs": [],
   "source": [
    "dset_small = train0[:100000]"
   ]
  },
  {
   "cell_type": "code",
   "execution_count": null,
   "id": "1c315277-30b2-4b41-b22c-8917b2eba8c3",
   "metadata": {},
   "outputs": [
    {
     "data": {
      "text/html": [
       "<div>\n",
       "<style scoped>\n",
       "    .dataframe tbody tr th:only-of-type {\n",
       "        vertical-align: middle;\n",
       "    }\n",
       "\n",
       "    .dataframe tbody tr th {\n",
       "        vertical-align: top;\n",
       "    }\n",
       "\n",
       "    .dataframe thead th {\n",
       "        text-align: right;\n",
       "    }\n",
       "</style>\n",
       "<table border=\"1\" class=\"dataframe\">\n",
       "  <thead>\n",
       "    <tr style=\"text-align: right;\">\n",
       "      <th></th>\n",
       "      <th>user_id</th>\n",
       "    </tr>\n",
       "  </thead>\n",
       "  <tbody>\n",
       "    <tr>\n",
       "      <th>533248701</th>\n",
       "      <td>1206</td>\n",
       "    </tr>\n",
       "    <tr>\n",
       "      <th>469458312</th>\n",
       "      <td>2622</td>\n",
       "    </tr>\n",
       "  </tbody>\n",
       "</table>\n",
       "</div>"
      ],
      "text/plain": [
       "           user_id\n",
       "533248701     1206\n",
       "469458312     2622"
      ]
     },
     "execution_count": null,
     "metadata": {},
     "output_type": "execute_result"
    }
   ],
   "source": [
    "test0[['user_id']].head(2)"
   ]
  },
  {
   "cell_type": "code",
   "execution_count": null,
   "id": "f4360b4f-9ce7-4924-9076-85c1168b70a8",
   "metadata": {},
   "outputs": [
    {
     "data": {
      "text/html": [
       "<div>\n",
       "<style scoped>\n",
       "    .dataframe tbody tr th:only-of-type {\n",
       "        vertical-align: middle;\n",
       "    }\n",
       "\n",
       "    .dataframe tbody tr th {\n",
       "        vertical-align: top;\n",
       "    }\n",
       "\n",
       "    .dataframe thead th {\n",
       "        text-align: right;\n",
       "    }\n",
       "</style>\n",
       "<table border=\"1\" class=\"dataframe\">\n",
       "  <thead>\n",
       "    <tr style=\"text-align: right;\">\n",
       "      <th></th>\n",
       "      <th>track_id</th>\n",
       "    </tr>\n",
       "    <tr>\n",
       "      <th>user_id</th>\n",
       "      <th></th>\n",
       "    </tr>\n",
       "  </thead>\n",
       "  <tbody>\n",
       "    <tr>\n",
       "      <th>1206</th>\n",
       "      <td>2386646</td>\n",
       "    </tr>\n",
       "    <tr>\n",
       "      <th>2622</th>\n",
       "      <td>3133584</td>\n",
       "    </tr>\n",
       "  </tbody>\n",
       "</table>\n",
       "</div>"
      ],
      "text/plain": [
       "         track_id\n",
       "user_id          \n",
       "1206      2386646\n",
       "2622      3133584"
      ]
     },
     "execution_count": null,
     "metadata": {},
     "output_type": "execute_result"
    }
   ],
   "source": [
    "test0.set_index('user_id').head(2)"
   ]
  },
  {
   "cell_type": "code",
   "execution_count": null,
   "id": "2adc087a-66cf-457c-9054-5dc3e8d3932e",
   "metadata": {},
   "outputs": [],
   "source": [
    "from reclist.abstractions import RecList, rec_test\n",
    "TOP_K_CHALLENGE=100\n",
    "\n",
    "class TestRSRecList(RecList):\n",
    "    @rec_test('HIT_RATE')\n",
    "    def hit_rate_at_100(self):\n",
    "        from reclist.metrics.standard_metrics import hit_rate_at_k\n",
    "        return hit_rate_at_k(self._y_preds, self._y_test, k=100)\n",
    "    \n",
    "    @rec_test('BEING_LESS_WRONG')\n",
    "    def being_less_wrong(self):\n",
    "        from reclist.metrics.standard_metrics import hits_at_k\n",
    "        hits = hits_at_k(self._y_preds, self._y_test, k=TOP_K_CHALLENGE).max(axis=2)\n",
    "        misses = (hits == False)\n",
    "        miss_gt_vectors = self._dense_repr[self._y_test.loc[misses, 'track_id'].values.reshape(-1)]\n",
    "        # we calculate the score w.r.t to the first prediction\n",
    "        miss_pred_vectors = self._dense_repr[self._y_preds.loc[misses, '0'].values.reshape(-1)]\n",
    "\n",
    "        return float(self.cosine_sim(miss_gt_vectors, miss_pred_vectors).mean())"
   ]
  },
  {
   "cell_type": "code",
   "execution_count": null,
   "id": "cf4d5969-6fb1-4424-9754-89cd3791044f",
   "metadata": {},
   "outputs": [
    {
     "name": "stdout",
     "output_type": "stream",
     "text": [
      "       user_id  artist_id  album_id  track_id   timestamp  user_track_count\n",
      "28870  2798275        548      1624      5341  1394635306                 1\n",
      "Training completed!\n"
     ]
    }
   ],
   "source": [
    "runner = EvalRSRunner(dset_small, EMAIL, PARTICIPANT_ID, AWS_ACCESS_KEY, AWS_SECRET_KEY, BUCKET_NAME)\n",
    "my_model=SkipGramRecSys(items=dset)\n",
    "my_model.train(train0)"
   ]
  },
  {
   "cell_type": "code",
   "execution_count": null,
   "id": "23ca0f36-35c7-43d8-9ddc-764f98b6f1d6",
   "metadata": {},
   "outputs": [
    {
     "name": "stderr",
     "output_type": "stream",
     "text": [
      "100%|██████████| 29717/29717 [10:04<00:00, 49.17it/s]\n"
     ]
    }
   ],
   "source": [
    "dataset = EvalRSDataset()\n",
    "dataset.load(x_train=dset_small,\n",
    "             x_test=test0[['user_id']],\n",
    "             y_test=test0.set_index('user_id'),\n",
    "             users=dset.df_users,\n",
    "             items=dset.df_tracks)\n",
    "rlist = TestRSRecList(model=my_model, dataset=dataset)"
   ]
  },
  {
   "cell_type": "code",
   "execution_count": null,
   "id": "c325c2f1-f52a-486c-b469-444f7954dcbb",
   "metadata": {},
   "outputs": [],
   "source": [
    "rlist.load_dense_repr(path_to_word_vectors=os.path.join(dset.path_to_dataset,'song2vec.wv'))"
   ]
  },
  {
   "cell_type": "markdown",
   "id": "f692a128-e49f-4807-9ea7-6878b29857de",
   "metadata": {},
   "source": [
    "## CBOW Evaluation"
   ]
  },
  {
   "cell_type": "code",
   "execution_count": null,
   "id": "ccc1e5b1-7446-4691-a66e-a6f77700836f",
   "metadata": {},
   "outputs": [
    {
     "name": "stdout",
     "output_type": "stream",
     "text": [
      "============= TEST RESULTS ===============\n",
      "Test Type        : HIT_RATE\n",
      "Test Description : \n",
      "Test Result      : 0.010910927765617107\n",
      "\n",
      "Generating reports at 2022-08-22 09:26:35.919342\n"
     ]
    },
    {
     "data": {
      "text/plain": [
       "'.reclist/TestRSRecList/CBoWRecSys/1661160395906'"
      ]
     },
     "execution_count": null,
     "metadata": {},
     "output_type": "execute_result"
    }
   ],
   "source": [
    "# Hit rate at 50\n",
    "rlist()"
   ]
  },
  {
   "cell_type": "code",
   "execution_count": null,
   "id": "4fb9db77-3baa-4ead-94d2-bafac0a8295a",
   "metadata": {},
   "outputs": [
    {
     "name": "stdout",
     "output_type": "stream",
     "text": [
      "============= TEST RESULTS ===============\n",
      "Test Type        : HIT_RATE\n",
      "Test Description : \n",
      "Test Result      : 0.018353258124263343\n",
      "\n",
      "Generating reports at 2022-08-22 09:51:19.033763\n"
     ]
    },
    {
     "data": {
      "text/plain": [
       "'.reclist/TestRSRecList/CBoWRecSys/1661161879019'"
      ]
     },
     "execution_count": null,
     "metadata": {},
     "output_type": "execute_result"
    }
   ],
   "source": [
    "# Hit rate at 100\n",
    "rlist()"
   ]
  },
  {
   "cell_type": "code",
   "execution_count": null,
   "id": "565b7ff9-c206-49c8-8b20-f5a7d3979b37",
   "metadata": {},
   "outputs": [],
   "source": [
    "# runner.evaluate(my_model, c.SEED, False, limit=0, custom_RecList=TestRSRecList, debug=True)SkipGramRecSys"
   ]
  },
  {
   "cell_type": "markdown",
   "id": "28aa99b4-ec30-4a33-b519-25f0cd6df55c",
   "metadata": {},
   "source": [
    "## Skipgram Evaluation "
   ]
  },
  {
   "cell_type": "code",
   "execution_count": null,
   "id": "53cfae71-5061-46fd-bf68-a1f692bc93cc",
   "metadata": {},
   "outputs": [
    {
     "name": "stdout",
     "output_type": "stream",
     "text": [
      "============= TEST RESULTS ===============\n",
      "Test Type        : HIT_RATE\n",
      "Test Description : \n",
      "Test Result      : 0.0028932848876328894\n",
      "\n",
      "Generating reports at 2022-08-25 11:17:46.928713\n"
     ]
    },
    {
     "data": {
      "text/plain": [
       "'.reclist/TestRSRecList/SkipGramRecSys/1661426266875'"
      ]
     },
     "execution_count": null,
     "metadata": {},
     "output_type": "execute_result"
    }
   ],
   "source": [
    "# Hit rate at 100 #alpha=0.025, window=5\n",
    "rlist()"
   ]
  },
  {
   "cell_type": "code",
   "execution_count": null,
   "id": "206f4c4d-cd4c-44aa-a516-63f8b311bc23",
   "metadata": {},
   "outputs": [
    {
     "name": "stdout",
     "output_type": "stream",
     "text": [
      "============= TEST RESULTS ===============\n",
      "Test Type        : HIT_RATE\n",
      "Test Description : \n",
      "Test Result      : 0.12155160812811196\n",
      "\n",
      "Generating reports at 2022-08-25 13:34:52.945429\n"
     ]
    },
    {
     "data": {
      "text/plain": [
       "'.reclist/TestRSRecList/SkipGramRecSys/1661434492931'"
      ]
     },
     "execution_count": null,
     "metadata": {},
     "output_type": "execute_result"
    }
   ],
   "source": [
    "# Hit rate at 100 #alpha=default, window=40, epoch=15 (but it takes more than an hour which may not be acceptable for the competition)\n",
    "\n",
    "rlist()"
   ]
  },
  {
   "cell_type": "code",
   "execution_count": null,
   "id": "751bf203-be99-4371-9109-8a3d01bed9b4",
   "metadata": {},
   "outputs": [
    {
     "name": "stdout",
     "output_type": "stream",
     "text": [
      "============= TEST RESULTS ===============\n",
      "Test Type        : HIT_RATE\n",
      "Test Description : \n",
      "Test Result      : 0.05636504357775011\n",
      "\n",
      "Generating reports at 2022-08-26 05:01:33.204502\n"
     ]
    },
    {
     "data": {
      "text/plain": [
       "'.reclist/TestRSRecList/SkipGramRecSys/1661490093187'"
      ]
     },
     "execution_count": null,
     "metadata": {},
     "output_type": "execute_result"
    }
   ],
   "source": [
    "# Hit rate at 100 #alpha=default, window=40, epoch=5\n",
    "\n",
    "rlist()"
   ]
  },
  {
   "cell_type": "code",
   "execution_count": null,
   "id": "1d331560-d13e-4d25-b9ea-1f6a4ccefd4f",
   "metadata": {},
   "outputs": [],
   "source": []
  }
 ],
 "metadata": {
  "kernelspec": {
   "display_name": "evalRS",
   "language": "python",
   "name": "evalrs"
  }
 },
 "nbformat": 4,
 "nbformat_minor": 5
}
